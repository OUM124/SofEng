{
 "cells": [
  {
   "cell_type": "markdown",
   "metadata": {},
   "source": [
    "# Exercice 1"
   ]
  },
  {
   "cell_type": "markdown",
   "metadata": {},
   "source": [
    "1. Functional requirement\n",
    "2. Non-functional requirement . it is related to availabity\n",
    "3. Non-functional requirement (withdraw limits)\n",
    "5. Functional requirement. \"Invalid cards will be rejected and 3 incorrect PIN entries will cause the card to be\n",
    "retained\" This part is non-fnctional requirement rlated to security and reliability.\n",
    "6. Functional requirement.\n",
    "7. Non-functional requirement. (display)"
   ]
  },
  {
   "cell_type": "markdown",
   "metadata": {},
   "source": [
    "# Exercice 2\n"
   ]
  },
  {
   "cell_type": "markdown",
   "metadata": {},
   "source": [
    "<ins>Question1</ins>"
   ]
  },
  {
   "cell_type": "markdown",
   "metadata": {},
   "source": [
    "1. Functional requirement.\n",
    "but \"easily\" depends on the performance of the system\n",
    "2. \"The system must record customer orders (not payments yet)\" is a functional requirement . But the rest is NFRs because it depends on the system capacity.\n",
    "3. NFR\n",
    "4. Functional requirement. \"As order are recieved\" depends on the system speed and performance.\n",
    "5. Functional requirement.\n",
    "6. Functional requirement.\n",
    "7. Functional requirement\n",
    "8. Functianal requirement.\n",
    "9. Functianal requirement.\n",
    "10. Functional requirement."
   ]
  },
  {
   "cell_type": "markdown",
   "metadata": {},
   "source": [
    "<ins>Question2</ins>"
   ]
  },
  {
   "cell_type": "markdown",
   "metadata": {},
   "source": [
    "<em>Must have </em>\n",
    "1. All new customers need to be added to the system .\n",
    "2. The system must record customer orders.\n",
    "3. Office staff (only) must be able to revise the details of an order.\n",
    "4. Office staff (only) must be able to revise the details of an order\n",
    "5. It all needs to interface with the payroll system (MD’s requirement)."
   ]
  },
  {
   "cell_type": "markdown",
   "metadata": {},
   "source": [
    "<em>Should have </em>\n",
    "1. The system should generate (but not send) invoices automatically as orders are received.\n",
    "2.  Weekly reports of unpaid invoices will be needed by the Managing Director.\n",
    "3. It should be possible to vary the payment terms on the invoices."
   ]
  },
  {
   "cell_type": "markdown",
   "metadata": {},
   "source": [
    "<em>Could have </em>\n",
    "1. The Production Manager would like to be able to view all customer orders so that she can plan production.\n",
    "2.  Weekly reports of unpaid invoices will be needed by the Managing Director.\n",
    "3. It should be possible to vary the payment terms on the invoices."
   ]
  },
  {
   "cell_type": "markdown",
   "metadata": {},
   "source": [
    "<em>will not have </em>\n"
   ]
  },
  {
   "cell_type": "markdown",
   "metadata": {},
   "source": [
    "# Exercice 3\n"
   ]
  },
  {
   "cell_type": "markdown",
   "metadata": {},
   "source": [
    "<ins>Question1</ins>"
   ]
  },
  {
   "cell_type": "markdown",
   "metadata": {},
   "source": [
    "1. <em>**Two functional requirements:**</em><br> . \"\"The system is to provide a 'time spent' analysis (time to set up, time per step, rework time) report of the work done by each craftsperson\"<br>\n",
    ". \"The system is to log the craftsperson, start and finish time and materials used for each\n",
    "manufacturing job. This must be possible on all shifts, including overtime.\"<br>\n",
    "1. <em>**Two non-functional requirements:**</em><br>\n",
    "\"The sales manager has asked for secure remote access via VPN\"<br>\n",
    "\"The data for time and materials used is to be captured on touch screens next to the\n",
    "machines on the factory floor so that the craftsperson’s work is not disrupted.\"<br>\n",
    "1. <em>**Two ambiguous requirements:**</em><br>\n",
    "\"The sales manager has asked for secure remote access via VPN using a laptop to the historic\n",
    "data on the system when working away from the office.\"<br>\n",
    "\"The managing director would like a data mining type function to drill down on historic data\n",
    "and look at costs in total, or per product range, or per product type, or per craftsperson,over a flexible period of time, or for an individual piece of work.\"<br>"
   ]
  },
  {
   "cell_type": "markdown",
   "metadata": {},
   "source": [
    "<ins>Question2</ins>"
   ]
  },
  {
   "cell_type": "markdown",
   "metadata": {},
   "source": [
    "1. The managing director : Close interviews with a list of questions about the function that should be provided the ensure the task the system was asked for by the managing director, as well as the formulas to be used .\n",
    "2. The sales manager : remote Questionnaires in order to gather more details about the security measures to be ensured.\n",
    "3. Craftspeople : Open Interviews with the craftspersons because they are envolved in the the production process and will have valuable remarks concerning the system performance and its issues. "
   ]
  },
  {
   "cell_type": "markdown",
   "metadata": {},
   "source": [
    "<ins>Question2</ins>"
   ]
  },
  {
   "cell_type": "markdown",
   "metadata": {},
   "source": [
    "1. **The system is to log the craftsperson, start and finish time and materials used for each\n",
    "manufacturing job. This must be possible on all shifts, including overtime.**<br>\n",
    "**.**  Must have :  this is a functional requirement of the system.\n",
    "\n",
    "2. **The data for time and materials used is to be captured on touch screens next to the\n",
    "machines on the factory floor so that the craftsperson’s work is not disrupted. This facility\n",
    "is to be usable in a noisy and dirty workshop environment.**<br>\n",
    "**.**  Must have :  the craftsperson's work should not be disrupted.\n",
    "\n",
    "3. **The system is to calculate material costs and overhead costs incurred for each\n",
    "manufacturing job.**<br>\n",
    "**.**  Should have :  The calculations of costs and overhead costs is also required but not mondatory as data logging .\n",
    "\n",
    "\n",
    "4. **The system is to provide a “time spent” analysis (time to set up, time per step, rework time)\n",
    "report of the work done by each craftsperson.**<br>\n",
    "**.**  Should have :  not mondatory as data logging .\n",
    "\n",
    "5. **The managing director would like a data mining type function to drill down on historic data\n",
    "and look at costs in total, or per product range, or per product type, or per craftsperson,\n",
    "over a flexible period of time, or for an individual piece of work.**<br>\n",
    "**.**  Must have :  It must be explored because it will helps to analyse data .\n",
    "\n",
    "\n",
    "6. **The sales manager has asked for secure remote access via VPN using a laptop to the historic\n",
    "data on the system when working away from the office.**<br>\n",
    "**.**  Should have :  not mondatory as data logging ."
   ]
  }
 ],
 "metadata": {
  "kernelspec": {
   "display_name": "Python 3",
   "language": "python",
   "name": "python3"
  },
  "language_info": {
   "codemirror_mode": {
    "name": "ipython",
    "version": 3
   },
   "file_extension": ".py",
   "mimetype": "text/x-python",
   "name": "python",
   "nbconvert_exporter": "python",
   "pygments_lexer": "ipython3",
   "version": "3.11.5"
  },
  "orig_nbformat": 4
 },
 "nbformat": 4,
 "nbformat_minor": 2
}
